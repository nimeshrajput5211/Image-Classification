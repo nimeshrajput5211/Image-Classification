{
 "cells": [
  {
   "cell_type": "code",
   "execution_count": 135,
   "metadata": {
    "collapsed": true
   },
   "outputs": [],
   "source": [
    "import glob\n",
    "import time\n",
    "import os\n",
    "import PIL\n",
    "import numpy as np\n",
    "import pandas as pd\n",
    "from os import environ\n",
    "from PIL import Image\n",
    "from keras.models import Sequential\n",
    "from keras.layers import Conv2D, MaxPooling2D\n",
    "from keras.layers import Activation, Dropout, Flatten, Dense\n",
    "from keras.utils import np_utils\n",
    "from keras import backend as K\n",
    "from sklearn.cross_validation import train_test_split\n",
    "\n",
    "# attributes\n",
    "train_path = 'train/'\n",
    "test_path = 'test/'\n",
    "folders = [\"c0\", \"c1\", \"c2\", \"c3\", \"c4\"]\n",
    "num_classes = len(folders)\n",
    "img_width, img_height = 300, 300\n",
    "\n",
    "# user defined function to change keras backend\n",
    "def set_keras_backend(backend):\n",
    "    if K.backend() != backend:\n",
    "       environ['KERAS_BACKEND'] = backend\n",
    "       reload(K)\n",
    "       assert K.backend() == backend\n",
    "\n",
    "# call the function with \"tensorflow\"\n",
    "set_keras_backend(\"tensorflow\")\n",
    "K.set_image_dim_ordering('tf')"
   ]
  },
  {
   "cell_type": "code",
   "execution_count": 136,
   "metadata": {
    "collapsed": true
   },
   "outputs": [],
   "source": [
    "# build model function\n",
    "def build_model():\n",
    "    model = Sequential()\n",
    "    model.add(Conv2D(32, (3, 3), input_shape=(img_width, img_height, 3)))\n",
    "    model.add(Activation('relu'))\n",
    "    \n",
    "    model.add(Conv2D(32, (3, 3)))\n",
    "    model.add(Activation('relu'))\n",
    "    model.add(MaxPooling2D(pool_size=(2, 2)))\n",
    "    \n",
    "    model.add(Flatten())\n",
    "    model.add(Dense(64))\n",
    "    model.add(Activation('relu'))\n",
    "    model.add(Dropout(0.5))\n",
    "    model.add(Dense(5))\n",
    "    model.add(Activation('softmax'))\n",
    "\n",
    "    model.compile(loss='categorical_crossentropy',\n",
    "              optimizer='adam',\n",
    "              metrics=['accuracy'])\n",
    "    return model"
   ]
  },
  {
   "cell_type": "code",
   "execution_count": 137,
   "metadata": {
    "collapsed": true
   },
   "outputs": [],
   "source": [
    "# loading train images\n",
    "def load_train():\n",
    "    X_train = []\n",
    "    X_train_id = []\n",
    "    y_train = []\n",
    "    start_time = time.time()\n",
    "\n",
    "    print('Loading training images...')\n",
    "    for fld in folders:\n",
    "        index = folders.index(fld)\n",
    "        print('Loading {} files (Index: {})'.format(fld, index))\n",
    "        path = os.path.join(train_path, fld, '*.jpg')\n",
    "        files = glob.glob(path)\n",
    "        for fl in files:\n",
    "            flbase = os.path.basename(fl)\n",
    "            img = read_image(fl)\n",
    "            X_train.append(img)\n",
    "            X_train_id.append(flbase)\n",
    "            y_train.append(index)\n",
    "\n",
    "    print('Training data load time: {} seconds'.format(round(time.time() - start_time, 2)))\n",
    "    return X_train, y_train, X_train_id"
   ]
  },
  {
   "cell_type": "code",
   "execution_count": 138,
   "metadata": {
    "collapsed": true
   },
   "outputs": [],
   "source": [
    "# loading test images\n",
    "def load_test():\n",
    "    path = os.path.join(test_path, '', '*.jpg')\n",
    "    print (path)\n",
    "    files = sorted(glob.glob(path))\n",
    "\n",
    "    X_test = []\n",
    "    X_test_id = []\n",
    "    for fl in files:\n",
    "        flbase = os.path.basename(fl)\n",
    "        img = read_image(fl)\n",
    "        X_test.append(img)\n",
    "        X_test_id.append(flbase)\n",
    "\n",
    "    return X_test, X_test_id"
   ]
  },
  {
   "cell_type": "code",
   "execution_count": 168,
   "metadata": {
    "collapsed": true
   },
   "outputs": [],
   "source": [
    "# read image function\n",
    "\n",
    "def read_image(f):\n",
    "    im = Image.open(f)\n",
    "    im = im.resize((300, 300), PIL.Image.NEAREST)\n",
    "    im = np.asarray(im, dtype='float64')\n",
    "    #im = im.reshape(img_width,img_height,3)\n",
    "    \n",
    "    return(im)"
   ]
  },
  {
   "cell_type": "code",
   "execution_count": 169,
   "metadata": {
    "collapsed": true
   },
   "outputs": [],
   "source": [
    "def normalize_train_data():\n",
    "    train_data, train_target, train_id = load_train()\n",
    "\n",
    "    train_data = np.array(train_data, dtype=np.uint8)\n",
    "    train_target = np.array(train_target, dtype=np.uint8)\n",
    "\n",
    "    train_data = train_data.astype('float32')\n",
    "    train_data = train_data / 255\n",
    "\n",
    "    train_target = np_utils.to_categorical(train_target, num_classes)\n",
    "\n",
    "    print('Shape of training data:', train_data.shape)\n",
    "    return train_data, train_target, train_id"
   ]
  },
  {
   "cell_type": "code",
   "execution_count": 170,
   "metadata": {
    "collapsed": true
   },
   "outputs": [],
   "source": [
    "def normalize_test_data():\n",
    "    test_data, test_id = load_test()\n",
    "\n",
    "    test_data = np.array(test_data, dtype=np.uint8)\n",
    "\n",
    "    test_data = test_data.astype('float32')\n",
    "    test_data = test_data / 255\n",
    "\n",
    "    print('Shape of testing data:', test_data.shape)\n",
    "    return test_data, test_id"
   ]
  },
  {
   "cell_type": "code",
   "execution_count": 171,
   "metadata": {},
   "outputs": [
    {
     "name": "stdout",
     "output_type": "stream",
     "text": [
      "Loading training images...\n",
      "Loading c0 files (Index: 0)\n",
      "Loading c1 files (Index: 1)\n",
      "Loading c2 files (Index: 2)\n",
      "Loading c3 files (Index: 3)\n",
      "Loading c4 files (Index: 4)\n",
      "Training data load time: 1.44 seconds\n",
      "Shape of training data: (120, 300, 300, 3)\n",
      "test/*.jpg\n",
      "Shape of testing data: (65, 300, 300, 3)\n"
     ]
    }
   ],
   "source": [
    "# normalizing train and test data\n",
    "train_data, train_target, train_id = normalize_train_data()\n",
    "test_data, test_id = normalize_test_data()"
   ]
  },
  {
   "cell_type": "code",
   "execution_count": 143,
   "metadata": {
    "collapsed": true
   },
   "outputs": [],
   "source": [
    "# create validation split and split train and test\n",
    "val_split = .25\n",
    "X_train, X_valid, Y_train, Y_valid = train_test_split(train_data, train_target, test_size=val_split)"
   ]
  },
  {
   "cell_type": "code",
   "execution_count": 144,
   "metadata": {},
   "outputs": [
    {
     "name": "stdout",
     "output_type": "stream",
     "text": [
      "_________________________________________________________________\n",
      "Layer (type)                 Output Shape              Param #   \n",
      "=================================================================\n",
      "conv2d_11 (Conv2D)           (None, 298, 298, 32)      896       \n",
      "_________________________________________________________________\n",
      "activation_21 (Activation)   (None, 298, 298, 32)      0         \n",
      "_________________________________________________________________\n",
      "conv2d_12 (Conv2D)           (None, 296, 296, 32)      9248      \n",
      "_________________________________________________________________\n",
      "activation_22 (Activation)   (None, 296, 296, 32)      0         \n",
      "_________________________________________________________________\n",
      "max_pooling2d_6 (MaxPooling2 (None, 148, 148, 32)      0         \n",
      "_________________________________________________________________\n",
      "flatten_6 (Flatten)          (None, 700928)            0         \n",
      "_________________________________________________________________\n",
      "dense_11 (Dense)             (None, 64)                44859456  \n",
      "_________________________________________________________________\n",
      "activation_23 (Activation)   (None, 64)                0         \n",
      "_________________________________________________________________\n",
      "dropout_6 (Dropout)          (None, 64)                0         \n",
      "_________________________________________________________________\n",
      "dense_12 (Dense)             (None, 5)                 325       \n",
      "_________________________________________________________________\n",
      "activation_24 (Activation)   (None, 5)                 0         \n",
      "=================================================================\n",
      "Total params: 44,869,925\n",
      "Trainable params: 44,869,925\n",
      "Non-trainable params: 0\n",
      "_________________________________________________________________\n"
     ]
    }
   ],
   "source": [
    "# build model\n",
    "model = build_model()\n",
    "model.summary()"
   ]
  },
  {
   "cell_type": "code",
   "execution_count": 145,
   "metadata": {},
   "outputs": [
    {
     "name": "stdout",
     "output_type": "stream",
     "text": [
      "Train on 90 samples, validate on 30 samples\n",
      "Epoch 1/50\n",
      "90/90 [==============================] - 33s 365ms/step - loss: 10.8911 - acc: 0.1889 - val_loss: 12.7221 - val_acc: 0.1667\n",
      "Epoch 2/50\n",
      "90/90 [==============================] - 30s 334ms/step - loss: 12.3319 - acc: 0.1889 - val_loss: 13.4317 - val_acc: 0.1667\n",
      "Epoch 3/50\n",
      "90/90 [==============================] - 30s 334ms/step - loss: 9.7694 - acc: 0.2000 - val_loss: 6.2697 - val_acc: 0.1667\n",
      "Epoch 4/50\n",
      "90/90 [==============================] - 30s 332ms/step - loss: 4.1177 - acc: 0.2667 - val_loss: 1.5923 - val_acc: 0.1667\n",
      "Epoch 5/50\n",
      "90/90 [==============================] - 30s 335ms/step - loss: 1.4486 - acc: 0.4444 - val_loss: 1.6155 - val_acc: 0.2667\n",
      "Epoch 6/50\n",
      "90/90 [==============================] - 30s 330ms/step - loss: 1.2847 - acc: 0.6333 - val_loss: 1.7978 - val_acc: 0.3000\n",
      "Epoch 7/50\n",
      "90/90 [==============================] - 30s 337ms/step - loss: 0.8894 - acc: 0.6667 - val_loss: 1.8951 - val_acc: 0.3000\n",
      "Epoch 8/50\n",
      "90/90 [==============================] - 32s 351ms/step - loss: 0.6844 - acc: 0.7667 - val_loss: 1.7998 - val_acc: 0.4000\n",
      "Epoch 9/50\n",
      "90/90 [==============================] - 35s 393ms/step - loss: 0.5668 - acc: 0.8000 - val_loss: 1.5705 - val_acc: 0.4667\n",
      "Epoch 10/50\n",
      "90/90 [==============================] - 31s 339ms/step - loss: 0.3839 - acc: 0.8778 - val_loss: 1.8421 - val_acc: 0.3667\n",
      "Epoch 11/50\n",
      "90/90 [==============================] - 29s 327ms/step - loss: 0.2410 - acc: 0.9111 - val_loss: 2.2669 - val_acc: 0.4667\n",
      "Epoch 12/50\n",
      "90/90 [==============================] - 31s 342ms/step - loss: 0.1308 - acc: 0.9556 - val_loss: 2.2600 - val_acc: 0.5000\n",
      "Epoch 13/50\n",
      "90/90 [==============================] - 32s 353ms/step - loss: 0.1338 - acc: 0.9444 - val_loss: 2.4643 - val_acc: 0.5333\n",
      "Epoch 14/50\n",
      "90/90 [==============================] - 35s 387ms/step - loss: 0.1872 - acc: 0.9222 - val_loss: 2.6707 - val_acc: 0.5000\n",
      "Epoch 15/50\n",
      "90/90 [==============================] - 31s 340ms/step - loss: 0.1094 - acc: 0.9444 - val_loss: 2.6333 - val_acc: 0.4667\n",
      "Epoch 16/50\n",
      "90/90 [==============================] - 34s 381ms/step - loss: 0.2135 - acc: 0.9222 - val_loss: 2.2900 - val_acc: 0.5000\n",
      "Epoch 17/50\n",
      "90/90 [==============================] - 38s 424ms/step - loss: 0.0833 - acc: 1.0000 - val_loss: 2.1539 - val_acc: 0.4667\n",
      "Epoch 18/50\n",
      "90/90 [==============================] - 34s 382ms/step - loss: 0.0503 - acc: 1.0000 - val_loss: 2.3484 - val_acc: 0.5333\n",
      "Epoch 19/50\n",
      "90/90 [==============================] - 34s 372ms/step - loss: 0.1190 - acc: 0.9444 - val_loss: 2.5960 - val_acc: 0.5667\n",
      "Epoch 20/50\n",
      "90/90 [==============================] - 32s 352ms/step - loss: 0.0811 - acc: 0.9778 - val_loss: 2.8690 - val_acc: 0.4333\n",
      "Epoch 21/50\n",
      "90/90 [==============================] - 34s 378ms/step - loss: 0.0784 - acc: 0.9667 - val_loss: 2.9208 - val_acc: 0.5000\n",
      "Epoch 22/50\n",
      "90/90 [==============================] - 33s 367ms/step - loss: 0.0562 - acc: 0.9778 - val_loss: 2.5732 - val_acc: 0.4667\n",
      "Epoch 23/50\n",
      "90/90 [==============================] - 31s 342ms/step - loss: 0.1247 - acc: 0.9556 - val_loss: 2.4789 - val_acc: 0.4667\n",
      "Epoch 24/50\n",
      "90/90 [==============================] - 35s 389ms/step - loss: 0.1183 - acc: 0.9556 - val_loss: 2.3796 - val_acc: 0.4667\n",
      "Epoch 25/50\n",
      "90/90 [==============================] - 34s 382ms/step - loss: 0.0853 - acc: 0.9667 - val_loss: 2.5108 - val_acc: 0.4333\n",
      "Epoch 26/50\n",
      "90/90 [==============================] - 34s 377ms/step - loss: 0.0780 - acc: 0.9667 - val_loss: 2.9196 - val_acc: 0.4667\n",
      "Epoch 27/50\n",
      "90/90 [==============================] - 29s 317ms/step - loss: 0.1447 - acc: 0.9444 - val_loss: 2.7981 - val_acc: 0.4667\n",
      "Epoch 28/50\n",
      "90/90 [==============================] - 29s 317ms/step - loss: 0.0975 - acc: 0.9556 - val_loss: 2.5787 - val_acc: 0.4333\n",
      "Epoch 29/50\n",
      "90/90 [==============================] - 32s 354ms/step - loss: 0.0497 - acc: 0.9778 - val_loss: 2.6178 - val_acc: 0.4333\n",
      "Epoch 30/50\n",
      "90/90 [==============================] - 33s 363ms/step - loss: 0.1319 - acc: 0.9333 - val_loss: 2.5294 - val_acc: 0.4667\n",
      "Epoch 31/50\n",
      "90/90 [==============================] - 30s 338ms/step - loss: 0.0859 - acc: 0.9556 - val_loss: 2.6190 - val_acc: 0.5333\n",
      "Epoch 32/50\n",
      "90/90 [==============================] - 30s 333ms/step - loss: 0.0536 - acc: 0.9778 - val_loss: 2.6679 - val_acc: 0.5000\n",
      "Epoch 33/50\n",
      "90/90 [==============================] - 29s 326ms/step - loss: 0.1088 - acc: 0.9667 - val_loss: 2.7013 - val_acc: 0.5000\n",
      "Epoch 34/50\n",
      "90/90 [==============================] - 30s 329ms/step - loss: 0.0765 - acc: 0.9667 - val_loss: 2.5883 - val_acc: 0.4667\n",
      "Epoch 35/50\n",
      "90/90 [==============================] - 33s 364ms/step - loss: 0.0697 - acc: 0.9556 - val_loss: 2.6351 - val_acc: 0.4667\n",
      "Epoch 36/50\n",
      "90/90 [==============================] - 33s 366ms/step - loss: 0.0826 - acc: 0.9667 - val_loss: 2.7712 - val_acc: 0.5333\n",
      "Epoch 37/50\n",
      "90/90 [==============================] - 31s 350ms/step - loss: 0.0369 - acc: 0.9889 - val_loss: 3.0210 - val_acc: 0.5667\n",
      "Epoch 38/50\n",
      "90/90 [==============================] - 32s 359ms/step - loss: 0.0777 - acc: 0.9667 - val_loss: 2.9098 - val_acc: 0.5667\n",
      "Epoch 39/50\n",
      "90/90 [==============================] - 33s 364ms/step - loss: 0.0490 - acc: 0.9778 - val_loss: 3.0185 - val_acc: 0.5667\n",
      "Epoch 40/50\n",
      "90/90 [==============================] - 31s 350ms/step - loss: 0.1317 - acc: 0.9444 - val_loss: 2.7671 - val_acc: 0.5333\n",
      "Epoch 41/50\n",
      "90/90 [==============================] - 33s 367ms/step - loss: 0.0346 - acc: 0.9889 - val_loss: 2.6664 - val_acc: 0.5333\n",
      "Epoch 42/50\n",
      "90/90 [==============================] - 31s 345ms/step - loss: 0.0831 - acc: 0.9778 - val_loss: 2.7892 - val_acc: 0.5000\n",
      "Epoch 43/50\n",
      "90/90 [==============================] - 30s 333ms/step - loss: 0.0698 - acc: 0.9778 - val_loss: 2.8499 - val_acc: 0.4667\n",
      "Epoch 44/50\n",
      "90/90 [==============================] - 35s 390ms/step - loss: 0.0958 - acc: 0.9889 - val_loss: 2.7623 - val_acc: 0.5000\n",
      "Epoch 45/50\n",
      "90/90 [==============================] - 31s 342ms/step - loss: 0.0220 - acc: 1.0000 - val_loss: 2.9799 - val_acc: 0.5000\n",
      "Epoch 46/50\n",
      "90/90 [==============================] - 32s 352ms/step - loss: 0.0358 - acc: 1.0000 - val_loss: 3.4261 - val_acc: 0.5333\n",
      "Epoch 47/50\n",
      "90/90 [==============================] - 31s 344ms/step - loss: 0.0321 - acc: 0.9889 - val_loss: 3.9233 - val_acc: 0.5333\n",
      "Epoch 48/50\n",
      "90/90 [==============================] - 30s 333ms/step - loss: 0.0110 - acc: 1.0000 - val_loss: 4.1402 - val_acc: 0.5333\n",
      "Epoch 49/50\n",
      "90/90 [==============================] - 30s 330ms/step - loss: 0.0365 - acc: 0.9778 - val_loss: 3.9867 - val_acc: 0.5000\n",
      "Epoch 50/50\n",
      "90/90 [==============================] - 30s 330ms/step - loss: 0.0329 - acc: 0.9889 - val_loss: 3.9605 - val_acc: 0.5000\n"
     ]
    },
    {
     "data": {
      "text/plain": [
       "<keras.callbacks.History at 0x1287ace48>"
      ]
     },
     "execution_count": 145,
     "metadata": {},
     "output_type": "execute_result"
    }
   ],
   "source": [
    "# train model\n",
    "model.fit(X_train,\n",
    "          Y_train,\n",
    "          batch_size=15,\n",
    "          epochs=50,\n",
    "          shuffle=True,\n",
    "          verbose=1,\n",
    "          validation_data=(X_valid, Y_valid))"
   ]
  },
  {
   "cell_type": "code",
   "execution_count": 146,
   "metadata": {},
   "outputs": [
    {
     "name": "stdout",
     "output_type": "stream",
     "text": [
      "[4 0 0 1 0 0 4 3 2 4 4 1 2 4 0 3 3 3 0 3 4 4 4 4 3 4 3 4 4 4 3 0 4 2 4 0 2\n",
      " 2 4 4 1 4 2 2 3 0 0 1 2 1 3 1 2 4 2 3 2 1 2 1 1 3 3 0 4]\n"
     ]
    }
   ],
   "source": [
    "# Predict test data class \n",
    "preds = model.predict_classes(test_data)\n",
    "prob = model.predict_proba(test_data)\n",
    "print(preds)"
   ]
  },
  {
   "cell_type": "code",
   "execution_count": 162,
   "metadata": {
    "collapsed": true
   },
   "outputs": [],
   "source": [
    "# appending 'c' to predicted results\n",
    "predChars = ['c' + str(pred) for pred in preds]\n",
    "\n",
    "# creating a dataframe with filenames from test_id and labels from predicted classes\n",
    "final_list = pd.DataFrame(\n",
    "    {'FileName': test_id,\n",
    "     'Label': predChars\n",
    "    })"
   ]
  },
  {
   "cell_type": "code",
   "execution_count": 166,
   "metadata": {
    "collapsed": true
   },
   "outputs": [],
   "source": [
    "# saving the result to csv file\n",
    "final_list.to_csv('submission.csv', sep=',', encoding='utf-8', index = False)"
   ]
  }
 ],
 "metadata": {
  "kernelspec": {
   "display_name": "Python 3",
   "language": "python",
   "name": "python3"
  },
  "language_info": {
   "codemirror_mode": {
    "name": "ipython",
    "version": 3
   },
   "file_extension": ".py",
   "mimetype": "text/x-python",
   "name": "python",
   "nbconvert_exporter": "python",
   "pygments_lexer": "ipython3",
   "version": "3.6.1"
  }
 },
 "nbformat": 4,
 "nbformat_minor": 2
}
